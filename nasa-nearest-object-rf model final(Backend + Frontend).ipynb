{
 "cells": [
  {
   "cell_type": "markdown",
   "id": "ed047e13",
   "metadata": {},
   "source": [
    "# Backend"
   ]
  },
  {
   "cell_type": "code",
   "execution_count": null,
   "id": "928e1c26",
   "metadata": {
    "_cell_guid": "b1076dfc-b9ad-4769-8c92-a6c4dae69d19",
    "_uuid": "8f2839f25d086af736a60e9eeb907d3b93b6e0e5",
    "papermill": {
     "duration": 1.262312,
     "end_time": "2022-07-01T16:33:01.209734",
     "exception": false,
     "start_time": "2022-07-01T16:32:59.947422",
     "status": "completed"
    },
    "tags": []
   },
   "outputs": [],
   "source": [
    "import pandas as pd\n",
    "import numpy as np\n",
    "import seaborn as sns\n",
    "import matplotlib.pyplot as plt\n"
   ]
  },
  {
   "cell_type": "code",
   "execution_count": null,
   "id": "590b3992",
   "metadata": {
    "papermill": {
     "duration": 0.499646,
     "end_time": "2022-07-01T16:33:01.713032",
     "exception": false,
     "start_time": "2022-07-01T16:33:01.213386",
     "status": "completed"
    },
    "tags": []
   },
   "outputs": [],
   "source": [
    "data = pd.read_csv(r\"neo.csv\")\n",
    "data2 = pd.read_csv(r\"neo_v2.csv\")\n",
    "data2.columns\n",
    "\n",
    "data2 = data2.drop(['id','name','orbiting_body','sentry_object','hazardous'],axis=1)\n"
   ]
  },
  {
   "cell_type": "code",
   "execution_count": null,
   "id": "625131a5",
   "metadata": {
    "papermill": {
     "duration": 0.016456,
     "end_time": "2022-07-01T16:33:01.761150",
     "exception": false,
     "start_time": "2022-07-01T16:33:01.744694",
     "status": "completed"
    },
    "tags": []
   },
   "outputs": [],
   "source": [
    "data2_y = data['hazardous']\n",
    "data2_y\n"
   ]
  },
  {
   "cell_type": "code",
   "execution_count": null,
   "id": "0810d65f",
   "metadata": {},
   "outputs": [],
   "source": [
    "data2_y=df = data['hazardous'].replace({True: 1, False: 0})\n",
    "data2_y\n"
   ]
  },
  {
   "cell_type": "code",
   "execution_count": null,
   "id": "39f3fed7",
   "metadata": {
    "papermill": {
     "duration": 0.014663,
     "end_time": "2022-07-01T16:33:01.779191",
     "exception": false,
     "start_time": "2022-07-01T16:33:01.764528",
     "status": "completed"
    },
    "tags": []
   },
   "outputs": [],
   "source": [
    "print(data.shape)\n",
    "print(data2.shape)\n"
   ]
  },
  {
   "cell_type": "code",
   "execution_count": null,
   "id": "7d9226e8",
   "metadata": {
    "papermill": {
     "duration": 0.014475,
     "end_time": "2022-07-01T16:33:01.797510",
     "exception": false,
     "start_time": "2022-07-01T16:33:01.783035",
     "status": "completed"
    },
    "tags": []
   },
   "outputs": [],
   "source": [
    "print(len(data['sentry_object'].value_counts()))\n"
   ]
  },
  {
   "cell_type": "code",
   "execution_count": null,
   "id": "258955f1",
   "metadata": {
    "papermill": {
     "duration": 0.065334,
     "end_time": "2022-07-01T16:33:01.866747",
     "exception": false,
     "start_time": "2022-07-01T16:33:01.801413",
     "status": "completed"
    },
    "tags": []
   },
   "outputs": [],
   "source": [
    "data.describe()\n"
   ]
  },
  {
   "cell_type": "code",
   "execution_count": null,
   "id": "0dad50ae",
   "metadata": {
    "papermill": {
     "duration": 2.62819,
     "end_time": "2022-07-01T16:33:04.498656",
     "exception": false,
     "start_time": "2022-07-01T16:33:01.870466",
     "status": "completed"
    },
    "tags": []
   },
   "outputs": [],
   "source": [
    "import plotly.express as px\n",
    "import plotly.io as pio\n",
    "pio.templates.default = \"plotly_white\"\n",
    "fig = px.scatter_matrix(data, dimensions=['est_diameter_min','est_diameter_max','relative_velocity','miss_distance','absolute_magnitude'],height=1000,width=1200,color='hazardous')\n",
    "fig.show()\n"
   ]
  },
  {
   "cell_type": "code",
   "execution_count": null,
   "id": "8fe21ba7",
   "metadata": {
    "papermill": {
     "duration": 0.076577,
     "end_time": "2022-07-01T16:33:04.641840",
     "exception": false,
     "start_time": "2022-07-01T16:33:04.565263",
     "status": "completed"
    },
    "tags": []
   },
   "outputs": [],
   "source": [
    "X = data.drop(['id','name','orbiting_body','sentry_object','hazardous'],axis=1)\n",
    "y = data.hazardous.astype('int')\n"
   ]
  },
  {
   "cell_type": "code",
   "execution_count": null,
   "id": "d260a355",
   "metadata": {
    "papermill": {
     "duration": 0.278416,
     "end_time": "2022-07-01T16:33:04.987909",
     "exception": false,
     "start_time": "2022-07-01T16:33:04.709493",
     "status": "completed"
    },
    "tags": []
   },
   "outputs": [],
   "source": [
    "from sklearn.ensemble import RandomForestClassifier\n",
    "from sklearn.metrics import accuracy_score, confusion_matrix, precision_score, recall_score, ConfusionMatrixDisplay\n",
    "from sklearn.model_selection import RandomizedSearchCV, train_test_split\n",
    "from scipy.stats import randint"
   ]
  },
  {
   "cell_type": "code",
   "execution_count": null,
   "id": "0da2ac42",
   "metadata": {
    "papermill": {
     "duration": 0.11384,
     "end_time": "2022-07-01T16:33:05.171020",
     "exception": false,
     "start_time": "2022-07-01T16:33:05.057180",
     "status": "completed"
    },
    "tags": []
   },
   "outputs": [],
   "source": [
    "X_train, X_test, y_train, y_test = train_test_split(X,y, random_state = 42, stratify = y)\n",
    "print(X_train.shape,X_test.shape,y_train.shape,y_test.shape)\n"
   ]
  },
  {
   "cell_type": "code",
   "execution_count": null,
   "id": "4d94cfed",
   "metadata": {
    "papermill": {
     "duration": 4.568354,
     "end_time": "2022-07-01T16:33:09.807139",
     "exception": false,
     "start_time": "2022-07-01T16:33:05.238785",
     "status": "completed"
    },
    "tags": []
   },
   "outputs": [],
   "source": [
    "rf = RandomForestClassifier()\n",
    "rf.fit(X_train, y_train)\n"
   ]
  },
  {
   "cell_type": "code",
   "execution_count": null,
   "id": "3fc023b4",
   "metadata": {
    "papermill": {
     "duration": 0.174245,
     "end_time": "2022-07-01T16:33:10.056481",
     "exception": false,
     "start_time": "2022-07-01T16:33:09.882236",
     "status": "completed"
    },
    "tags": []
   },
   "outputs": [],
   "source": [
    "y_pred = rf.predict(X_test)"
   ]
  },
  {
   "cell_type": "code",
   "execution_count": null,
   "id": "b24f3249",
   "metadata": {},
   "outputs": [],
   "source": [
    "X.columns\n"
   ]
  },
  {
   "cell_type": "code",
   "execution_count": null,
   "id": "7df205cd",
   "metadata": {},
   "outputs": [],
   "source": [
    "# make predictions for test data\n",
    "y_pred = rf.predict(X_test)\n",
    "predictions = [round(value) for value in y_pred]\n",
    "predictions\n"
   ]
  },
  {
   "cell_type": "code",
   "execution_count": null,
   "id": "153ed848",
   "metadata": {},
   "outputs": [],
   "source": [
    "X.iloc[1].values\n"
   ]
  },
  {
   "cell_type": "code",
   "execution_count": null,
   "id": "7bb0ce94",
   "metadata": {},
   "outputs": [],
   "source": [
    "t=pd.DataFrame(X.iloc[1]).T\n",
    "t.shape\n"
   ]
  },
  {
   "cell_type": "code",
   "execution_count": null,
   "id": "88c8bbca",
   "metadata": {},
   "outputs": [],
   "source": [
    "t_pred=rf.predict(t)\n",
    "predictions1 = [round(value) for value in t_pred]\n",
    "predictions1\n"
   ]
  },
  {
   "cell_type": "markdown",
   "id": "8e2b8590",
   "metadata": {},
   "source": [
    "# Frontend code"
   ]
  },
  {
   "cell_type": "code",
   "execution_count": null,
   "id": "1d21064c",
   "metadata": {},
   "outputs": [],
   "source": [
    "import tkinter as tk\n",
    "from tkinter import messagebox\n",
    "import pandas as pd\n",
    "import numpy as np\n",
    "from sklearn.model_selection import train_test_split\n",
    "from sklearn.ensemble import GradientBoostingClassifier\n",
    "from sklearn.metrics import confusion_matrix\n",
    "\n",
    "# Load your data\n",
    "data = pd.read_csv(r\"neo.csv\")\n",
    "data2 = pd.read_csv(r\"neo_v2.csv\")\n",
    "\n",
    "# Drop unnecessary columns and prepare data\n",
    "data2 = data2.drop(['id', 'name', 'orbiting_body', 'sentry_object', 'hazardous'], axis=1)\n",
    "data2_y = data['hazardous'].replace({True: 1, False: 0})\n",
    "\n",
    "# Model training\n",
    "X = data.drop(['id', 'name', 'orbiting_body', 'sentry_object', 'hazardous'], axis=1)\n",
    "y = data.hazardous.astype('int')\n",
    "\n",
    "X_train, X_test, y_train, y_test = train_test_split(X, y, random_state=42, stratify=y)\n",
    "rf = RandomForestClassifier()\n",
    "rf.fit(X_train, y_train)\n",
    "\n",
    "# Create the GUI\n",
    "root = tk.Tk()\n",
    "root.title(\"Hazardous Asteroid Predictor\")\n",
    "\n",
    "# Add a heading label at the top\n",
    "heading_label = tk.Label(root, text=\"Hazardous Asteroid Predictor\", font=(\"Helvetica\", 16, \"bold\"))\n",
    "heading_label.pack(pady=10)  # Add padding for better spacing\n",
    "\n",
    "# Create labels and entry boxes for each feature\n",
    "labels = [\"Est. Diameter Min\", \"Est. Diameter Max\", \"Relative Velocity\", \"Miss Distance\", \"Absolute Magnitude\"]\n",
    "\n",
    "entries = {}\n",
    "for label in labels:\n",
    "    frame = tk.Frame(root)\n",
    "    frame.pack(pady=5)  # Add padding for better spacing between elements\n",
    "    tk.Label(frame, text=label).pack(side=tk.LEFT, padx=10)  # Add padding for label and entry box\n",
    "    entry = tk.Entry(frame)\n",
    "    entry.pack(side=tk.RIGHT, padx=10)\n",
    "    entries[label] = entry\n",
    "\n",
    "# Function to predict if the asteroid is hazardous\n",
    "def predict_hazardous():\n",
    "    # Retrieve values from the entry boxes\n",
    "    values = []\n",
    "    for label in labels:\n",
    "        try:\n",
    "            value = float(entries[label].get())\n",
    "            values.append(value)\n",
    "        except ValueError:\n",
    "            messagebox.showerror(\"Invalid Input\", f\"Please enter a valid number for {label}\")\n",
    "            return\n",
    "    \n",
    "    # Create a DataFrame for prediction\n",
    "    input_data = pd.DataFrame([values], columns=X.columns)\n",
    "    \n",
    "    # Make a prediction\n",
    "    prediction = rf.predict(input_data)[0]\n",
    "    \n",
    "    if prediction == 1:\n",
    "        result = \"Hazardous\"\n",
    "    else:\n",
    "        result = \"Not Hazardous\"\n",
    "    \n",
    "    # Show result in a message box\n",
    "    messagebox.showinfo(\"Prediction\", f\"The asteroid is {result}\")\n",
    "\n",
    "# Add a button to trigger prediction\n",
    "predict_button = tk.Button(root, text=\"Predict\", command=predict_hazardous)\n",
    "predict_button.pack(pady=10)\n",
    "\n",
    "# Start the Tkinter event loop\n",
    "root.mainloop()\n"
   ]
  },
  {
   "cell_type": "code",
   "execution_count": null,
   "id": "775ad69d",
   "metadata": {},
   "outputs": [],
   "source": []
  },
  {
   "cell_type": "code",
   "execution_count": null,
   "id": "9a10d6a0-227b-4fb8-8f89-df50b77cfe22",
   "metadata": {},
   "outputs": [],
   "source": []
  }
 ],
 "metadata": {
  "kernelspec": {
   "display_name": "Python 3 (ipykernel)",
   "language": "python",
   "name": "python3"
  },
  "language_info": {
   "codemirror_mode": {
    "name": "ipython",
    "version": 3
   },
   "file_extension": ".py",
   "mimetype": "text/x-python",
   "name": "python",
   "nbconvert_exporter": "python",
   "pygments_lexer": "ipython3",
   "version": "3.9.7"
  },
  "papermill": {
   "default_parameters": {},
   "duration": 19.392071,
   "end_time": "2022-07-01T16:33:11.090783",
   "environment_variables": {},
   "exception": null,
   "input_path": "__notebook__.ipynb",
   "output_path": "__notebook__.ipynb",
   "parameters": {},
   "start_time": "2022-07-01T16:32:51.698712",
   "version": "2.3.4"
  }
 },
 "nbformat": 4,
 "nbformat_minor": 5
}
